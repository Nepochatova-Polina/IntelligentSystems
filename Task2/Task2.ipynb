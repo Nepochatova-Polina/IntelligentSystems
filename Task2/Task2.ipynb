{
 "cells": [
  {
   "cell_type": "markdown",
   "source": [
    "## Lab 2\n",
    "#### Variant 13"
   ],
   "metadata": {
    "collapsed": false
   }
  },
  {
   "cell_type": "code",
   "execution_count": 126,
   "outputs": [],
   "source": [
    "import math\n",
    "import random\n",
    "\n",
    "import numpy as np"
   ],
   "metadata": {
    "collapsed": false
   }
  },
  {
   "cell_type": "markdown",
   "source": [
    "##### 1.The number n is entered. Output an array of size n×n, in<br>on which the numbers from 1 to n go along the diagonal, and the other numbers are equal to 0."
   ],
   "metadata": {
    "collapsed": false
   }
  },
  {
   "cell_type": "code",
   "execution_count": 127,
   "metadata": {},
   "outputs": [
    {
     "data": {
      "text/plain": "array([[ 1.,  0.,  0.,  0.,  0.,  0.,  0.,  0.,  0.,  0.],\n       [ 0.,  2.,  0.,  0.,  0.,  0.,  0.,  0.,  0.,  0.],\n       [ 0.,  0.,  3.,  0.,  0.,  0.,  0.,  0.,  0.,  0.],\n       [ 0.,  0.,  0.,  4.,  0.,  0.,  0.,  0.,  0.,  0.],\n       [ 0.,  0.,  0.,  0.,  5.,  0.,  0.,  0.,  0.,  0.],\n       [ 0.,  0.,  0.,  0.,  0.,  6.,  0.,  0.,  0.,  0.],\n       [ 0.,  0.,  0.,  0.,  0.,  0.,  7.,  0.,  0.,  0.],\n       [ 0.,  0.,  0.,  0.,  0.,  0.,  0.,  8.,  0.,  0.],\n       [ 0.,  0.,  0.,  0.,  0.,  0.,  0.,  0.,  9.,  0.],\n       [ 0.,  0.,  0.,  0.,  0.,  0.,  0.,  0.,  0., 10.]])"
     },
     "execution_count": 127,
     "metadata": {},
     "output_type": "execute_result"
    }
   ],
   "source": [
    "# NumPy\n",
    "def task_1(n):\n",
    "    matrix = np.zeros((n, n))\n",
    "    np.fill_diagonal(matrix, np.arange(1, n + 1))\n",
    "    return matrix\n",
    "\n",
    "\n",
    "task_1(10)"
   ]
  },
  {
   "cell_type": "code",
   "execution_count": 128,
   "outputs": [
    {
     "data": {
      "text/plain": "[[1, 0, 0, 0, 0, 0, 0, 0, 0, 0],\n [0, 2, 0, 0, 0, 0, 0, 0, 0, 0],\n [0, 0, 3, 0, 0, 0, 0, 0, 0, 0],\n [0, 0, 0, 4, 0, 0, 0, 0, 0, 0],\n [0, 0, 0, 0, 5, 0, 0, 0, 0, 0],\n [0, 0, 0, 0, 0, 6, 0, 0, 0, 0],\n [0, 0, 0, 0, 0, 0, 7, 0, 0, 0],\n [0, 0, 0, 0, 0, 0, 0, 8, 0, 0],\n [0, 0, 0, 0, 0, 0, 0, 0, 9, 0],\n [0, 0, 0, 0, 0, 0, 0, 0, 0, 10]]"
     },
     "execution_count": 128,
     "metadata": {},
     "output_type": "execute_result"
    }
   ],
   "source": [
    "# Iterative\n",
    "def task_1(n):\n",
    "    return [[i if i == j else 0 for j in range(1, n + 1)] for i in range(1, n + 1)]\n",
    "\n",
    "\n",
    "task_1(10)"
   ],
   "metadata": {
    "collapsed": false
   }
  },
  {
   "cell_type": "markdown",
   "source": [
    "##### 6.An array is entered from the keyboard. Replace all zeros elements at –1."
   ],
   "metadata": {
    "collapsed": false
   }
  },
  {
   "cell_type": "code",
   "execution_count": 129,
   "outputs": [
    {
     "data": {
      "text/plain": "array([ 1,  2,  3, -1,  4,  5,  6, -1,  7,  8,  9, -1, 11, 12, 13, -1, 14,\n       15, 16, 17, -1, 18, 19, 20, -1])"
     },
     "execution_count": 129,
     "metadata": {},
     "output_type": "execute_result"
    }
   ],
   "source": [
    "# NumPy\n",
    "def task_7(array):\n",
    "    arr = np.array(array)\n",
    "    arr[arr == 0] = -1\n",
    "    return arr\n",
    "\n",
    "\n",
    "task_7([1, 2, 3, 0, 4, 5, 6, 0, 7, 8, 9, 0, 11, 12, 13, 0, 14, 15, 16, 17, 0, 18, 19, 20, 0])"
   ],
   "metadata": {
    "collapsed": false
   }
  },
  {
   "cell_type": "code",
   "execution_count": 130,
   "outputs": [
    {
     "data": {
      "text/plain": "[1,\n 2,\n 3,\n -1,\n 4,\n 5,\n 6,\n -1,\n 7,\n 8,\n 9,\n -1,\n 11,\n 12,\n 13,\n -1,\n 14,\n 15,\n 16,\n 17,\n -1,\n 18,\n 19,\n 20,\n -1]"
     },
     "execution_count": 130,
     "metadata": {},
     "output_type": "execute_result"
    }
   ],
   "source": [
    "# Iterative\n",
    "def task_7(array):\n",
    "    for i in range(len(array)):\n",
    "        if array[i] == 0:\n",
    "            array[i] = -1\n",
    "    return array\n",
    "\n",
    "\n",
    "task_7([1, 2, 3, 0, 4, 5, 6, 0, 7, 8, 9, 0, 11, 12, 13, 0, 14, 15, 16, 17, 0, 18, 19, 20, 0])"
   ],
   "metadata": {
    "collapsed": false
   }
  },
  {
   "cell_type": "markdown",
   "source": [
    "##### 8.An array is entered from the keyboard. Calculate in it the number of zero and non-zero elements."
   ],
   "metadata": {
    "collapsed": false
   }
  },
  {
   "cell_type": "code",
   "execution_count": 131,
   "outputs": [
    {
     "data": {
      "text/plain": "(19, 6)"
     },
     "execution_count": 131,
     "metadata": {},
     "output_type": "execute_result"
    }
   ],
   "source": [
    "# NumPy\n",
    "def task_8(array):\n",
    "    arr = np.array(array)\n",
    "    non = np.count_nonzero(arr)\n",
    "    zero = arr.size - non\n",
    "    return non, zero\n",
    "\n",
    "\n",
    "task_8([1, 2, 3, 0, 4, 5, 6, 0, 7, 8, 9, 0, 11, 12, 13, 0, 14, 15, 16, 17, 0, 18, 19, 20, 0])"
   ],
   "metadata": {
    "collapsed": false
   }
  },
  {
   "cell_type": "code",
   "execution_count": 132,
   "outputs": [
    {
     "data": {
      "text/plain": "(19, 6)"
     },
     "execution_count": 132,
     "metadata": {},
     "output_type": "execute_result"
    }
   ],
   "source": [
    "# Iterative\n",
    "def task_8(array):\n",
    "    non = 0\n",
    "    zero = 0\n",
    "    for i in range(len(array)):\n",
    "        if array[i] == 0:\n",
    "            zero = zero + 1\n",
    "        else:\n",
    "            non = non + 1\n",
    "    return non, zero\n",
    "\n",
    "\n",
    "task_8([1, 2, 3, 0, 4, 5, 6, 0, 7, 8, 9, 0, 11, 12, 13, 0, 14, 15, 16, 17, 0, 18, 19, 20, 0])"
   ],
   "metadata": {
    "collapsed": false
   }
  },
  {
   "cell_type": "markdown",
   "source": [
    "##### 11.Create an array of units of size n×n and add to it is a \"frame\" formed from 0."
   ],
   "metadata": {
    "collapsed": false
   }
  },
  {
   "cell_type": "code",
   "execution_count": 133,
   "outputs": [
    {
     "data": {
      "text/plain": "array([[0., 0., 0., 0., 0., 0., 0., 0., 0., 0., 0., 0.],\n       [0., 1., 1., 1., 1., 1., 1., 1., 1., 1., 1., 0.],\n       [0., 1., 1., 1., 1., 1., 1., 1., 1., 1., 1., 0.],\n       [0., 1., 1., 1., 1., 1., 1., 1., 1., 1., 1., 0.],\n       [0., 1., 1., 1., 1., 1., 1., 1., 1., 1., 1., 0.],\n       [0., 1., 1., 1., 1., 1., 1., 1., 1., 1., 1., 0.],\n       [0., 1., 1., 1., 1., 1., 1., 1., 1., 1., 1., 0.],\n       [0., 1., 1., 1., 1., 1., 1., 1., 1., 1., 1., 0.],\n       [0., 1., 1., 1., 1., 1., 1., 1., 1., 1., 1., 0.],\n       [0., 1., 1., 1., 1., 1., 1., 1., 1., 1., 1., 0.],\n       [0., 1., 1., 1., 1., 1., 1., 1., 1., 1., 1., 0.],\n       [0., 0., 0., 0., 0., 0., 0., 0., 0., 0., 0., 0.]])"
     },
     "execution_count": 133,
     "metadata": {},
     "output_type": "execute_result"
    }
   ],
   "source": [
    "# NumPy\n",
    "def task_11(n):\n",
    "    matrix = np.ones((n, n))\n",
    "    return np.pad(matrix, pad_width=1, mode='constant', constant_values=0)\n",
    "\n",
    "\n",
    "task_11(10)"
   ],
   "metadata": {
    "collapsed": false
   }
  },
  {
   "cell_type": "code",
   "execution_count": 134,
   "outputs": [
    {
     "data": {
      "text/plain": "[[0, 0, 0, 0, 0, 0, 0, 0, 0, 0, 0, 0],\n [0, 1, 1, 1, 1, 1, 1, 1, 1, 1, 1, 0],\n [0, 1, 1, 1, 1, 1, 1, 1, 1, 1, 1, 0],\n [0, 1, 1, 1, 1, 1, 1, 1, 1, 1, 1, 0],\n [0, 1, 1, 1, 1, 1, 1, 1, 1, 1, 1, 0],\n [0, 1, 1, 1, 1, 1, 1, 1, 1, 1, 1, 0],\n [0, 1, 1, 1, 1, 1, 1, 1, 1, 1, 1, 0],\n [0, 1, 1, 1, 1, 1, 1, 1, 1, 1, 1, 0],\n [0, 1, 1, 1, 1, 1, 1, 1, 1, 1, 1, 0],\n [0, 1, 1, 1, 1, 1, 1, 1, 1, 1, 1, 0],\n [0, 1, 1, 1, 1, 1, 1, 1, 1, 1, 1, 0],\n [0, 0, 0, 0, 0, 0, 0, 0, 0, 0, 0, 0]]"
     },
     "execution_count": 134,
     "metadata": {},
     "output_type": "execute_result"
    }
   ],
   "source": [
    "# Iterative\n",
    "def task_11(n):\n",
    "    matrix = [[1 for _ in range(n)] for _ in range(n)]\n",
    "\n",
    "    matrix.insert(0, [0 for _ in range(n)])\n",
    "    matrix.append([0 for _ in range(n)])\n",
    "\n",
    "    for i in range(n + 2):\n",
    "        matrix[i].insert(0, 0)\n",
    "        matrix[i].append(0)\n",
    "\n",
    "    return matrix\n",
    "\n",
    "\n",
    "task_11(10)"
   ],
   "metadata": {
    "collapsed": false
   }
  },
  {
   "cell_type": "markdown",
   "source": [
    "#### 14.Place zeros and ones in a chessboard on the 8×8 field order."
   ],
   "metadata": {
    "collapsed": false
   }
  },
  {
   "cell_type": "code",
   "execution_count": 135,
   "outputs": [
    {
     "data": {
      "text/plain": "array([[0, 1, 0, 1, 0, 1, 0, 1],\n       [1, 0, 1, 0, 1, 0, 1, 0],\n       [0, 1, 0, 1, 0, 1, 0, 1],\n       [1, 0, 1, 0, 1, 0, 1, 0],\n       [0, 1, 0, 1, 0, 1, 0, 1],\n       [1, 0, 1, 0, 1, 0, 1, 0],\n       [0, 1, 0, 1, 0, 1, 0, 1],\n       [1, 0, 1, 0, 1, 0, 1, 0]])"
     },
     "execution_count": 135,
     "metadata": {},
     "output_type": "execute_result"
    }
   ],
   "source": [
    "# NumPy\n",
    "def task_14():\n",
    "    array = ([0, 1, 0, 1, 0, 1, 0, 1],\n",
    "             [1, 0, 1, 0, 1, 0, 1, 0])\n",
    "    matrix = np.tile(array, (4, 1))\n",
    "    return matrix\n",
    "\n",
    "\n",
    "task_14()"
   ],
   "metadata": {
    "collapsed": false
   }
  },
  {
   "cell_type": "code",
   "execution_count": 136,
   "outputs": [
    {
     "data": {
      "text/plain": "[[0, 1, 0, 1, 0, 1, 0, 1],\n [1, 0, 1, 0, 1, 0, 1, 0],\n [0, 1, 0, 1, 0, 1, 0, 1],\n [1, 0, 1, 0, 1, 0, 1, 0],\n [0, 1, 0, 1, 0, 1, 0, 1],\n [1, 0, 1, 0, 1, 0, 1, 0],\n [0, 1, 0, 1, 0, 1, 0, 1],\n [1, 0, 1, 0, 1, 0, 1, 0]]"
     },
     "execution_count": 136,
     "metadata": {},
     "output_type": "execute_result"
    }
   ],
   "source": [
    "# Iterative\n",
    "def task_14():\n",
    "    matrix = [[0 for _ in range(8)] for _ in range(8)]\n",
    "    for i in range(8):\n",
    "        for j in range(8):\n",
    "            if i % 2 == 0 and j % 2 != 0:\n",
    "                matrix[i][j] = 1\n",
    "            if i % 2 != 0 and j % 2 == 0:\n",
    "                matrix[i][j] = 1\n",
    "\n",
    "    return matrix\n",
    "\n",
    "\n",
    "task_14()"
   ],
   "metadata": {
    "collapsed": false
   }
  },
  {
   "cell_type": "markdown",
   "source": [
    "#### 16. Fill the vector with values from 0 to n. All values, that are greater than 3n/4 and less than n/4 should be replaced by zeros."
   ],
   "metadata": {
    "collapsed": false
   }
  },
  {
   "cell_type": "markdown",
   "source": [],
   "metadata": {
    "collapsed": false
   }
  },
  {
   "cell_type": "code",
   "execution_count": 137,
   "outputs": [
    {
     "data": {
      "text/plain": "array([0, 0, 0, 3, 4, 5, 6, 7, 0, 0, 0])"
     },
     "execution_count": 137,
     "metadata": {},
     "output_type": "execute_result"
    }
   ],
   "source": [
    "#NumPy\n",
    "def task_16(n):\n",
    "    array = np.arange(n + 1)\n",
    "    array[:math.ceil(n / 4)] = 0\n",
    "    array[math.ceil(3 * n / 4):] = 0\n",
    "    return array\n",
    "\n",
    "\n",
    "task_16(10)"
   ],
   "metadata": {
    "collapsed": false
   }
  },
  {
   "cell_type": "code",
   "execution_count": 138,
   "outputs": [
    {
     "data": {
      "text/plain": "[0, 0, 0, 3, 4, 5, 6, 7, 0, 0, 0]"
     },
     "execution_count": 138,
     "metadata": {},
     "output_type": "execute_result"
    }
   ],
   "source": [
    "#Iterative\n",
    "def task_16(n):\n",
    "    return [0 if (i < n / 4 or i > 3 * n / 4) else i for i in range(n + 1)]\n",
    "\n",
    "task_16(10)"
   ],
   "metadata": {
    "collapsed": false
   }
  },
  {
   "cell_type": "markdown",
   "source": [
    "#### 17. Fill the vector with values from 0 to n. Replace signs for all values less than n/2 and greater than 3n/4 on opposites"
   ],
   "metadata": {
    "collapsed": false
   }
  },
  {
   "cell_type": "code",
   "execution_count": 139,
   "outputs": [
    {
     "data": {
      "text/plain": "array([  0,  -1,  -2,  -3,  -4,   5,   6,   7,  -8,  -9, -10])"
     },
     "execution_count": 139,
     "metadata": {},
     "output_type": "execute_result"
    }
   ],
   "source": [
    "#NumPy\n",
    "def task_17(n):\n",
    "    array = np.arange(n + 1)\n",
    "    array[:math.ceil(n / 2)] *= -1\n",
    "    array[math.ceil(3 * n / 4):] *= -1\n",
    "    return array\n",
    "\n",
    "\n",
    "task_17(10)\n"
   ],
   "metadata": {
    "collapsed": false
   }
  },
  {
   "cell_type": "code",
   "execution_count": 140,
   "outputs": [
    {
     "data": {
      "text/plain": "[0, -1, -2, -3, -4, 5, 6, 7, -8, -9, -10]"
     },
     "execution_count": 140,
     "metadata": {},
     "output_type": "execute_result"
    }
   ],
   "source": [
    "#Iterative\n",
    "def task_17(n):\n",
    "    return [-i if (i < n / 2 or i > 3 * n / 4) else i for i in range(n + 1)]\n",
    "\n",
    "\n",
    "task_17(10)"
   ],
   "metadata": {
    "collapsed": false
   }
  },
  {
   "cell_type": "markdown",
   "source": [
    "#### 18. Generate a vector of n random numbers in a range from 0 to 99. Determine the number of unique numbers in the sequence."
   ],
   "metadata": {
    "collapsed": false
   }
  },
  {
   "cell_type": "code",
   "execution_count": 141,
   "outputs": [
    {
     "data": {
      "text/plain": "71"
     },
     "execution_count": 141,
     "metadata": {},
     "output_type": "execute_result"
    }
   ],
   "source": [
    "#NumPy\n",
    "def task_18(n):\n",
    "    return len(np.unique(np.random.randint(0, 100, n)))\n",
    "\n",
    "\n",
    "task_18(100)"
   ],
   "metadata": {
    "collapsed": false
   }
  },
  {
   "cell_type": "code",
   "execution_count": 142,
   "outputs": [
    {
     "data": {
      "text/plain": "63"
     },
     "execution_count": 142,
     "metadata": {},
     "output_type": "execute_result"
    }
   ],
   "source": [
    "#Iterative\n",
    "def task_18(n):\n",
    "    return len(set([random.randrange(0, 100) for i in range(n)]))\n",
    "\n",
    "\n",
    "task_18(100)"
   ],
   "metadata": {
    "collapsed": false
   }
  },
  {
   "cell_type": "markdown",
   "source": [
    "## Task 2\n",
    "### Solving system of linear equations with Cramer's rule\n",
    "<img src=\"img.png\">"
   ],
   "metadata": {
    "collapsed": false
   }
  },
  {
   "cell_type": "code",
   "execution_count": 143,
   "outputs": [
    {
     "name": "stdout",
     "output_type": "stream",
     "text": [
      "Simple result: [ -3.66666667  -4.33333333 -13.66666667   1.16666667]\n",
      "NumPy result: [ -3.66666667  -4.33333333 -13.66666667   1.16666667]\n",
      "\n",
      "matrix multiplication: \n",
      "Expected [ -9  -7 -16   0]\n",
      "Result [-9.00000000e+00 -7.00000000e+00 -1.60000000e+01 -7.10542736e-15]\n",
      "\n",
      "inverse matrix: \n",
      "Expected [ -3.66666667  -4.33333333 -13.66666667   1.16666667]\n",
      "Result [ -3.66666667  -4.33333333 -13.66666667   1.16666667]\n",
      "\n"
     ]
    }
   ],
   "source": [
    "matrix = np.array([[5, 1, -1, 0],\n",
    "                   [3, -3, 1, 4],\n",
    "                   [3, -2, 1, 0],\n",
    "                   [1, -4, 1, 0]])\n",
    "\n",
    "results = np.array([-9, -7, -16, 0])\n",
    "\n",
    "\n",
    "def cramer(matrix, results):\n",
    "    det = np.linalg.det(matrix)\n",
    "    size = matrix.shape[0]\n",
    "\n",
    "    if np.allclose(det, 0):\n",
    "        print(\"Determinant is zero, aborting.\")\n",
    "        return 0\n",
    "\n",
    "    solution = np.zeros(size)\n",
    "\n",
    "    for i in range(size):\n",
    "        temp_matrix = np.copy(matrix)\n",
    "        temp_matrix[:, i] = np.copy(results)\n",
    "        solution[i] = np.linalg.det(temp_matrix) / det\n",
    "\n",
    "    return solution\n",
    "\n",
    "\n",
    "cramer = cramer(matrix, results)\n",
    "print(f\"Simple result: {cramer}\")\n",
    "\n",
    "numpy = np.linalg.solve(matrix, results)\n",
    "print(f\"NumPy result: {numpy}\\n\")\n",
    "assert np.allclose(numpy, cramer)\n",
    "\n",
    "multiplication = np.dot(matrix, cramer)\n",
    "print(\"matrix multiplication: \")\n",
    "print(f\"Expected {results}\")\n",
    "print(f\"Result {multiplication}\\n\")\n",
    "assert np.allclose(results, multiplication)\n",
    "\n",
    "inverse = np.dot(np.linalg.inv(matrix), results)\n",
    "print(\"inverse matrix: \")\n",
    "print(f\"Expected {inverse}\")\n",
    "print(f\"Result {cramer}\\n\")\n",
    "assert np.allclose(inverse, cramer)"
   ],
   "metadata": {
    "collapsed": false
   }
  },
  {
   "cell_type": "markdown",
   "source": [
    "## Task 3\n",
    "### Evaluating matrix expression\n",
    "<img src=\"img_2.png\"><br>\n",
    "<strong>Expression :</strong><br>\n",
    "<img src=\"expression.png\">\n"
   ],
   "metadata": {
    "collapsed": false
   }
  },
  {
   "cell_type": "code",
   "execution_count": 144,
   "outputs": [
    {
     "name": "stdout",
     "output_type": "stream",
     "text": [
      "NumPy: [[-1054 -2320 -2538]\n",
      " [ -370  -822  -876]\n",
      " [-1616 -3681 -4761]]\n",
      "Iterative: [[-1054, -2320, -2538], [-370, -822, -876], [-1616, -3681, -4761]]\n",
      "Equal: True\n"
     ]
    }
   ],
   "source": [
    "A = [[1, -2, 3],\n",
    "     [2, 3, 5],\n",
    "     [1, 4, -1]]\n",
    "\n",
    "A_np = np.array(A)\n",
    "\n",
    "B = [[4, 11, 3],\n",
    "     [1, 6, 1],\n",
    "     [2, 2, 16]]\n",
    "\n",
    "B_np = np.array(B)\n",
    "\n",
    "\n",
    "def mmult(A, B):\n",
    "    a_rows, a_cols = len(A), len(A[0])\n",
    "    b_rows, b_cols = len(B), len(B[0])\n",
    "    if a_cols != b_rows:\n",
    "        return []\n",
    "\n",
    "    return [[sum([x * y for (x, y) in zip(row, col)]) for col in zip(*B)] for row in A]\n",
    "\n",
    "\n",
    "def madd(A, B):\n",
    "    a_rows, a_cols = len(A), len(A[0])\n",
    "    b_rows, b_cols = len(B), len(B[0])\n",
    "    if a_rows != b_rows or a_cols != b_cols:\n",
    "        return []\n",
    "\n",
    "    return [[A[i][j] + B[i][j] for j in range(a_cols)] for i in range(a_rows)]\n",
    "\n",
    "\n",
    "def msub(A, B):\n",
    "    a_rows, a_cols = len(A), len(A[0])\n",
    "    b_rows, b_cols = len(B), len(B[0])\n",
    "    if a_rows != b_rows or a_cols != b_cols:\n",
    "        return []\n",
    "\n",
    "    return [[A[i][j] - B[i][j] for j in range(a_cols)] for i in range(a_rows)]\n",
    "\n",
    "\n",
    "def smult(scalar, matrix):\n",
    "    rows, cols = len(matrix), len(matrix[0])\n",
    "    return [[matrix[i][j] * scalar for j in range(cols)] for i in range(rows)]\n",
    "\n",
    "\n",
    "def solve_numpy():\n",
    "    return (A_np - B_np @ B_np) @ (2 * A_np + B_np)\n",
    "\n",
    "\n",
    "def solve_iterative():\n",
    "    return mmult(msub(A, mmult(B, B)), madd(smult(2, A), B))\n",
    "\n",
    "result_numpy = solve_numpy()\n",
    "result_iterative = solve_iterative()\n",
    "\n",
    "print(\"NumPy:\", result_numpy)\n",
    "print(\"Iterative:\", result_iterative)\n",
    "print(\"Equal:\", np.allclose(result_numpy, result_iterative))"
   ],
   "metadata": {
    "collapsed": false
   }
  }
 ],
 "metadata": {
  "kernelspec": {
   "display_name": "Python 3 (ipykernel)",
   "language": "python",
   "name": "python3"
  },
  "language_info": {
   "codemirror_mode": {
    "name": "ipython",
    "version": 3
   },
   "file_extension": ".py",
   "mimetype": "text/x-python",
   "name": "python",
   "nbconvert_exporter": "python",
   "pygments_lexer": "ipython3",
   "version": "3.10.6"
  }
 },
 "nbformat": 4,
 "nbformat_minor": 1
}
