{
 "cells": [
  {
   "cell_type": "markdown",
   "source": [
    "### Аналіз набору даних за допомогою Pandas, NumPy, візуалізації даних за допомогою Matplotlib у блокноті Jupyter."
   ],
   "metadata": {
    "collapsed": false
   }
  },
  {
   "cell_type": "code",
   "execution_count": null,
   "metadata": {
    "collapsed": true
   },
   "outputs": [],
   "source": [
    "import pandas as pd\n",
    "import numpy as np\n",
    "\n",
    "data = pd.read_csv(\"Expanded_data_with_more_features.csv\")\n",
    "data"
   ]
  },
  {
   "cell_type": "markdown",
   "source": [
    "##### 1. Скільки студентів і студенток у наборі даних?"
   ],
   "metadata": {
    "collapsed": false
   }
  },
  {
   "cell_type": "code",
   "execution_count": null,
   "outputs": [],
   "source": [
    "data[[\"Unnamed: 0\",\"Gender\"]].groupby(\"Gender\").count()"
   ],
   "metadata": {
    "collapsed": false
   }
  },
  {
   "cell_type": "markdown",
   "source": [
    "##### 2. Який відсоток студентів чоловічої статі в наборі даних?"
   ],
   "metadata": {
    "collapsed": false
   }
  },
  {
   "cell_type": "code",
   "execution_count": null,
   "outputs": [],
   "source": [
    "male_data = data[data['Gender'] == 'male']['Unnamed: 0'].count()\n",
    "percent = (male_data /data['Gender'].count()) * 100\n",
    "percent"
   ],
   "metadata": {
    "collapsed": false
   }
  },
  {
   "cell_type": "markdown",
   "source": [
    "##### 3. Який відсоток студенток у наборі даних?"
   ],
   "metadata": {
    "collapsed": false
   }
  },
  {
   "cell_type": "code",
   "execution_count": null,
   "outputs": [],
   "source": [
    "female_data = data[data['Gender'] == 'female']['Unnamed: 0'].count()\n",
    "percent = (female_data /data['Gender'].count()) * 100\n",
    "percent"
   ],
   "metadata": {
    "collapsed": false
   }
  },
  {
   "cell_type": "markdown",
   "source": [
    "#####  4.Яка етнічна група має найвищий середній бал з математики?"
   ],
   "metadata": {
    "collapsed": false
   }
  },
  {
   "cell_type": "code",
   "execution_count": null,
   "outputs": [],
   "source": [
    "Math_score = data[[\"MathScore\",'EthnicGroup']].groupby('EthnicGroup').sum()/\\\n",
    "             data[[\"MathScore\",'EthnicGroup']].groupby('EthnicGroup').count()\n",
    "Math_score.sort_values(['MathScore'],ascending=False).head(1)"
   ],
   "metadata": {
    "collapsed": false
   }
  },
  {
   "cell_type": "markdown",
   "source": [
    "##### 5. Яка етнічна група має найвищий середній бал читання?\n"
   ],
   "metadata": {
    "collapsed": false
   }
  },
  {
   "cell_type": "code",
   "execution_count": null,
   "outputs": [],
   "source": [
    "Reading_score = data[[\"ReadingScore\",'EthnicGroup']].groupby('EthnicGroup').sum()/ \\\n",
    "             data[[\"ReadingScore\",'EthnicGroup']].groupby('EthnicGroup').count()\n",
    "Reading_score.sort_values(['ReadingScore'],ascending=False).head(1)"
   ],
   "metadata": {
    "collapsed": false
   }
  },
  {
   "cell_type": "markdown",
   "source": [
    "##### 6. Яка етнічна група має найвищий середній бал з письма?"
   ],
   "metadata": {
    "collapsed": false
   }
  },
  {
   "cell_type": "code",
   "execution_count": null,
   "outputs": [],
   "source": [
    "Writing_score = data[[\"WritingScore\",'EthnicGroup']].groupby('EthnicGroup').sum()/ \\\n",
    "             data[[\"WritingScore\",'EthnicGroup']].groupby('EthnicGroup').count()\n",
    "Writing_score.sort_values(['WritingScore'],ascending=False).head(1)\n"
   ],
   "metadata": {
    "collapsed": false
   }
  },
  {
   "cell_type": "markdown",
   "source": [
    "##### 7. Який середній бал з математики для студентів, які закінчили курс підготовки до тесту?\n"
   ],
   "metadata": {
    "collapsed": false
   }
  },
  {
   "cell_type": "code",
   "execution_count": null,
   "outputs": [],
   "source": [
    "math_data = data[(data['TestPrep'] == 'completed')]['MathScore']\n",
    "math_data.sum()/math_data.count()"
   ],
   "metadata": {
    "collapsed": false
   }
  },
  {
   "cell_type": "markdown",
   "source": [
    "##### 8. Який середній бал з читання для студентів, які пройшли курс підготовки до тесту?"
   ],
   "metadata": {
    "collapsed": false
   }
  },
  {
   "cell_type": "code",
   "execution_count": null,
   "outputs": [],
   "source": [
    "rd_data = data[(data['TestPrep'] == 'completed')]['ReadingScore']\n",
    "rd_data.sum()/rd_data.count()"
   ],
   "metadata": {
    "collapsed": false
   }
  },
  {
   "cell_type": "markdown",
   "source": [
    "##### 9. Який середній бал з письма для студентів, які закінчили курс підготовки до тесту?"
   ],
   "metadata": {
    "collapsed": false
   }
  },
  {
   "cell_type": "code",
   "execution_count": null,
   "outputs": [],
   "source": [
    "wr_data = data[(data['TestPrep'] == 'completed')]['WritingScore']\n",
    "wr_data.sum()/wr_data.count()"
   ],
   "metadata": {
    "collapsed": false
   }
  },
  {
   "cell_type": "markdown",
   "source": [
    "##### 10. Скільки студентів мають одружених батьків?"
   ],
   "metadata": {
    "collapsed": false
   }
  },
  {
   "cell_type": "code",
   "execution_count": null,
   "outputs": [],
   "source": [
    "students = data[(data['ParentMaritalStatus'] == 'married')]['Unnamed: 0'].count()\n",
    "students"
   ],
   "metadata": {
    "collapsed": false
   }
  },
  {
   "cell_type": "markdown",
   "source": [
    "##### 11. Скільки студентів мають батьків-одинаків?"
   ],
   "metadata": {
    "collapsed": false
   }
  },
  {
   "cell_type": "code",
   "execution_count": null,
   "outputs": [],
   "source": [
    "students = data[(data['ParentMaritalStatus'] == 'single')]['Unnamed: 0'].count()\n",
    "students"
   ],
   "metadata": {
    "collapsed": false
   }
  },
  {
   "cell_type": "markdown",
   "source": [
    "#####  12. Чи студенти, які регулярно займаються спортом, мають вищі середні результати з математики, ніж ті, хто ніколи не займається спортом?"
   ],
   "metadata": {
    "collapsed": false
   }
  },
  {
   "cell_type": "code",
   "execution_count": null,
   "outputs": [],
   "source": [
    "reg_students_math = data[(data['PracticeSport'] == 'regularly')]['MathScore']\n",
    "nev_students_math = data[(data['PracticeSport'] == 'never')]['MathScore']\n",
    "\n",
    "reg_students_av_score = reg_students_math.sum()/reg_students_math.count()\n",
    "nev_students_av_score = nev_students_math.sum()/nev_students_math.count()\n",
    "\n",
    "result = [reg_students_av_score,nev_students_av_score]\n",
    "result"
   ],
   "metadata": {
    "collapsed": false
   }
  },
  {
   "cell_type": "markdown",
   "source": [
    "##### 13. Чи студенти, які регулярно займаються спортом, мають вищі середні результати з читання, ніж ті, хто ніколи не займається спортом?"
   ],
   "metadata": {
    "collapsed": false
   }
  },
  {
   "cell_type": "code",
   "execution_count": null,
   "outputs": [],
   "source": [
    "reg_students_read = data[(data['PracticeSport'] == 'regularly')]['ReadingScore']\n",
    "nev_students_read = data[(data['PracticeSport'] == 'never')]['ReadingScore']\n",
    "\n",
    "reg_students_av_score = reg_students_read.sum()/reg_students_read.count()\n",
    "nev_students_av_score = nev_students_read.sum()/nev_students_read.count()\n",
    "\n",
    "result = [reg_students_av_score,nev_students_av_score]\n",
    "result"
   ],
   "metadata": {
    "collapsed": false
   }
  },
  {
   "cell_type": "markdown",
   "source": [
    "#####  14. Скільки учнів користується шкільним автобусом, щоб дістатися до школи?\n"
   ],
   "metadata": {
    "collapsed": false
   }
  },
  {
   "cell_type": "code",
   "execution_count": null,
   "outputs": [],
   "source": [
    "students = data[(data['TransportMeans'] == 'school_bus')]['Unnamed: 0'].count()\n",
    "students"
   ],
   "metadata": {
    "collapsed": false
   }
  },
  {
   "cell_type": "markdown",
   "source": [
    " ##### 15. Скільки учнів користується приватним транспортом, щоб дістатися до школи?"
   ],
   "metadata": {
    "collapsed": false
   }
  },
  {
   "cell_type": "code",
   "execution_count": null,
   "outputs": [],
   "source": [
    "students = data[(data['TransportMeans'] == 'private')]['Unnamed: 0'].count()\n",
    "students"
   ],
   "metadata": {
    "collapsed": false
   }
  }
 ],
 "metadata": {
  "kernelspec": {
   "display_name": "Python 3",
   "language": "python",
   "name": "python3"
  },
  "language_info": {
   "codemirror_mode": {
    "name": "ipython",
    "version": 2
   },
   "file_extension": ".py",
   "mimetype": "text/x-python",
   "name": "python",
   "nbconvert_exporter": "python",
   "pygments_lexer": "ipython2",
   "version": "2.7.6"
  }
 },
 "nbformat": 4,
 "nbformat_minor": 0
}
