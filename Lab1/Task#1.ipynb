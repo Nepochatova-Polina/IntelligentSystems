{
 "cells": [
  {
   "cell_type": "markdown",
   "source": [
    "<h1 style = \"color:green\"><i>Iceland</i></h1>"
   ],
   "metadata": {
    "collapsed": false
   }
  },
  {
   "cell_type": "code",
   "execution_count": 13,
   "outputs": [
    {
     "data": {
      "text/plain": "<IPython.core.display.HTML object>",
      "text/html": "<svg viewBox=\"0 0 22 16\">\n<rect width=\"22\" height=\"16\" fill=\"#00205b\"/>\n<g fill=\"#fff\">\n<rect width=\"4\" height=\"16\" x=\"6\"/>\n<rect width=\"22\" height=\"4\" y=\"6\"/>\n</g>\n<g fill=\"#ba0c2f\">\n<rect width=\"2\" height=\"16\" x=\"7\"/>\n<rect width=\"22\" height=\"2\" y=\"7\"/>\n</g>\n</svg>\n"
     },
     "metadata": {},
     "output_type": "display_data"
    }
   ],
   "source": [
    "%%html\n",
    "<svg viewBox=\"0 0 22 16\">\n",
    "<rect width=\"22\" height=\"16\" fill=\"#00205b\"/>\n",
    "<g fill=\"#fff\">\n",
    "<rect width=\"4\" height=\"16\" x=\"6\"/>\n",
    "<rect width=\"22\" height=\"4\" y=\"6\"/>\n",
    "</g>\n",
    "<g fill=\"#ba0c2f\">\n",
    "<rect width=\"2\" height=\"16\" x=\"7\"/>\n",
    "<rect width=\"22\" height=\"2\" y=\"7\"/>\n",
    "</g>\n",
    "</svg>"
   ],
   "metadata": {
    "collapsed": false
   }
  },
  {
   "cell_type": "markdown",
   "source": [
    "<ul>\n",
    "<h3 style = \"color:orange\">Facts</h3>\n",
    "<li><strong>Capital and largest city : </strong><i>Reykjavík</i></li>\n",
    "<li><strong> President : </strong><i>Guðni Th. Jóhannesson </i></li>\n",
    "<li><strong> Official language and national language: </strong><i>Icelandic</i></li>\n",
    "<h3 style = \"color:orange\">Area</h3>\n",
    "<li><strong>Total : </strong><i>102,775 km2 </i></li>\n",
    "<li><strong> Water (%) : </strong><i>2.07</i></li>\n",
    "</ul>"
   ],
   "metadata": {
    "collapsed": false
   }
  },
  {
   "cell_type": "markdown",
   "source": [
    "<h1 style = \"color:blue\">History of Iceland</h3>\n",
    "<table style = \"width:100%\">\n",
    "    <tr>\n",
    "        <th>Timeline</th>\n",
    "        <th>Name</th>\n",
    "        <th>Owerview</th>\n",
    "    </tr>\n",
    "    <tr>\n",
    "        <td><strong>874 – 1262</strong></td>\n",
    "        <td><i>Settlement and Commonwealth</i></td>\n",
    "        <td>Commonwealth</td>\n",
    "    </tr>\n",
    "    <tr>\n",
    "        <td><strong>1262 - 1397</strong></td>\n",
    "        <td><i>The Middle Ages</i></td>\n",
    "        <td>Norwegian rule</td>\n",
    "    </tr>\n",
    "      <tr>\n",
    "        <td><strong>1397 - 1523</strong></td>\n",
    "        <td><i>The Middle Ages</i></td>\n",
    "        <td>Danish rule</td>\n",
    "    </tr>\n",
    "      <tr>\n",
    "        <td><strong>1523 - 1814</strong></td>\n",
    "        <td><i>Early Modern period</i></td>\n",
    "        <td>Danish rule</td>\n",
    "    </tr>\n",
    "     <tr>\n",
    "        <td><strong>1918 – 1944</strong></td>\n",
    "        <td><i>Independence and the Kingdom of Iceland</i></td>\n",
    "        <td>Icelandic independence movement</td>\n",
    "    </tr>\n",
    "     <tr>\n",
    "        <td><strong>1944 – present</strong></td>\n",
    "        <td><i>Republic of Iceland</i></td>\n",
    "        <td>Republic</td>\n",
    "    </tr>\n",
    "\n",
    "</table>"
   ],
   "metadata": {
    "collapsed": false
   }
  },
  {
   "cell_type": "code",
   "execution_count": 14,
   "outputs": [
    {
     "data": {
      "text/plain": "<IPython.core.display.HTML object>",
      "text/html": "<style>\n        ul {\n            padding-left: 20px;\n        }\n\n        .landmarks {\n            padding: 30px;\n            border: 2px solid #ccc;\n            border-radius: 10px;\n            color: rgb(29, 122, 30);\n            min-width: 900px;\n        }\n\n        .landmark-section {\n            display: grid;\n            grid-row: 1;\n            row-gap: 20px;\n        }\n\n        .landmark {\n            padding: 20px 5px;\n            border: 1px solid #333;\n            border-radius: 15px;\n            color: rgb(155, 179, 22);\n            text-align: center;\n        }\n\n        .landmark img {\n            max-width: 800px;\n            border-radius: 100px;\n        }\n</style>\n\n<h2>Beautiful landmarks</h2>\n\n<div class=\"landmarks\">\n    <ul>\n        <li>\n            <h3>Landmarks</h3>\n            <ul class=\"landmark-section\">\n                <li>\n                    <div class=\"landmark\">\n                        <h3>Lanscape #1</h3>\n                        <img src=\"https://static.toiimg.com/photo/msid-79558557,width-96,height-65.cms\"\n                            alt=\"Lanscape #1\">\n                    </div>\n                </li>\n                <li>\n                    <div class=\"landmark\">\n                        <h3>Lanscape #2</h3>\n                        <img src=\"https://www.discover-the-world.com/app/uploads/2018/05/iceland-south-east-hof-turf-church-ss-800x600-c-default.jpg\"\n                            alt=\"Lanscape #2\">\n                    </div>\n                </li>\n            </ul>\n        </li>\n        <li>\n            <h3>Landmarks</h3>\n            <ul class=\"landmark-section\">\n                <li>\n                    <div class=\"landmark\">\n                        <h3>Beautiful image #1</h3>\n                        <img src=\"img/img1.webp\">\n                    </div>\n                </li>\n                <li>\n                    <div class=\"landmark\">\n                        <h3>Beautiful image #2</h3>\n                        <img src=\"img/img2.jpg\">\n                    </div>\n                </li>\n            </ul>\n        </li>\n    </ul>\n</div>\n"
     },
     "metadata": {},
     "output_type": "display_data"
    }
   ],
   "source": [
    "%%html\n",
    "<style>\n",
    "        ul {\n",
    "            padding-left: 20px;\n",
    "        }\n",
    "\n",
    "        .landmarks {\n",
    "            padding: 30px;\n",
    "            border: 2px solid #ccc;\n",
    "            border-radius: 10px;\n",
    "            color: rgb(29, 122, 30);\n",
    "            min-width: 900px;\n",
    "        }\n",
    "\n",
    "        .landmark-section {\n",
    "            display: grid;\n",
    "            grid-row: 1;\n",
    "            row-gap: 20px;\n",
    "        }\n",
    "\n",
    "        .landmark {\n",
    "            padding: 20px 5px;\n",
    "            border: 1px solid #333;\n",
    "            border-radius: 15px;\n",
    "            color: rgb(155, 179, 22);\n",
    "            text-align: center;\n",
    "        }\n",
    "\n",
    "        .landmark img {\n",
    "            max-width: 800px;\n",
    "            border-radius: 100px;\n",
    "        }\n",
    "</style>\n",
    "\n",
    "<h2>Beautiful landmarks</h2>\n",
    "\n",
    "<div class=\"landmarks\">\n",
    "    <ul>\n",
    "        <li>\n",
    "            <h3>Landmarks</h3>\n",
    "            <ul class=\"landmark-section\">\n",
    "                <li>\n",
    "                    <div class=\"landmark\">\n",
    "                        <h3>Lanscape #1</h3>\n",
    "                        <img src=\"https://static.toiimg.com/photo/msid-79558557,width-96,height-65.cms\"\n",
    "                            alt=\"Lanscape #1\">\n",
    "                    </div>\n",
    "                </li>\n",
    "                <li>\n",
    "                    <div class=\"landmark\">\n",
    "                        <h3>Lanscape #2</h3>\n",
    "                        <img src=\"https://www.discover-the-world.com/app/uploads/2018/05/iceland-south-east-hof-turf-church-ss-800x600-c-default.jpg\"\n",
    "                            alt=\"Lanscape #2\">\n",
    "                    </div>\n",
    "                </li>\n",
    "            </ul>\n",
    "        </li>\n",
    "        <li>\n",
    "            <h3>Landmarks</h3>\n",
    "            <ul class=\"landmark-section\">\n",
    "                <li>\n",
    "                    <div class=\"landmark\">\n",
    "                        <h3>Beautiful image #1</h3>\n",
    "                        <img src=\"img/img1.webp\">\n",
    "                    </div>\n",
    "                </li>\n",
    "                <li>\n",
    "                    <div class=\"landmark\">\n",
    "                        <h3>Beautiful image #2</h3>\n",
    "                        <img src=\"img/img2.jpg\">\n",
    "                    </div>\n",
    "                </li>\n",
    "            </ul>\n",
    "        </li>\n",
    "    </ul>\n",
    "</div>"
   ],
   "metadata": {
    "collapsed": false
   }
  }
 ],
 "metadata": {
  "kernelspec": {
   "display_name": "Python 3",
   "language": "python",
   "name": "python3"
  },
  "language_info": {
   "codemirror_mode": {
    "name": "ipython",
    "version": 2
   },
   "file_extension": ".py",
   "mimetype": "text/x-python",
   "name": "python",
   "nbconvert_exporter": "python",
   "pygments_lexer": "ipython2",
   "version": "2.7.6"
  }
 },
 "nbformat": 4,
 "nbformat_minor": 0
}
